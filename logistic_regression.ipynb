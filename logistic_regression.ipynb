{
 "cells": [
  {
   "cell_type": "markdown",
   "metadata": {},
   "source": [
    "# 1) Import Libraries"
   ]
  },
  {
   "cell_type": "code",
   "execution_count": 1,
   "metadata": {},
   "outputs": [],
   "source": [
    "# Re-import necessary libraries since the execution state was reset\n",
    "import pandas as pd\n",
    "from sklearn.model_selection import train_test_split\n",
    "from sklearn.preprocessing import LabelEncoder, StandardScaler\n",
    "from sklearn.linear_model import LogisticRegression\n",
    "from sklearn.metrics import classification_report, accuracy_score"
   ]
  },
  {
   "cell_type": "markdown",
   "metadata": {},
   "source": [
    "# 2) Import and Clean Data"
   ]
  },
  {
   "cell_type": "code",
   "execution_count": 2,
   "metadata": {},
   "outputs": [
    {
     "name": "stdout",
     "output_type": "stream",
     "text": [
      "data_cleaned shape:\n",
      "          step  type      amount  oldbalanceOrg  newbalanceOrig  \\\n",
      "0           1     3     9839.64      170136.00       160296.36   \n",
      "1           1     3     1864.28       21249.00        19384.72   \n",
      "2           1     4      181.00         181.00            0.00   \n",
      "3           1     1      181.00         181.00            0.00   \n",
      "4           1     3    11668.14       41554.00        29885.86   \n",
      "...       ...   ...         ...            ...             ...   \n",
      "6362615   743     1   339682.13      339682.13            0.00   \n",
      "6362616   743     4  6311409.28     6311409.28            0.00   \n",
      "6362617   743     1  6311409.28     6311409.28            0.00   \n",
      "6362618   743     4   850002.52      850002.52            0.00   \n",
      "6362619   743     1   850002.52      850002.52            0.00   \n",
      "\n",
      "         oldbalanceDest  newbalanceDest  isFraud  \n",
      "0                  0.00            0.00        0  \n",
      "1                  0.00            0.00        0  \n",
      "2                  0.00            0.00        1  \n",
      "3              21182.00            0.00        1  \n",
      "4                  0.00            0.00        0  \n",
      "...                 ...             ...      ...  \n",
      "6362615            0.00       339682.13        1  \n",
      "6362616            0.00            0.00        1  \n",
      "6362617        68488.84      6379898.11        1  \n",
      "6362618            0.00            0.00        1  \n",
      "6362619      6510099.11      7360101.63        1  \n",
      "\n",
      "[6362620 rows x 8 columns]\n",
      "X head:\n",
      "    step  type    amount  oldbalanceOrg  newbalanceOrig  oldbalanceDest  \\\n",
      "0     1     3   9839.64       170136.0       160296.36             0.0   \n",
      "1     1     3   1864.28        21249.0        19384.72             0.0   \n",
      "2     1     4    181.00          181.0            0.00             0.0   \n",
      "3     1     1    181.00          181.0            0.00         21182.0   \n",
      "4     1     3  11668.14        41554.0        29885.86             0.0   \n",
      "\n",
      "   newbalanceDest  \n",
      "0             0.0  \n",
      "1             0.0  \n",
      "2             0.0  \n",
      "3             0.0  \n",
      "4             0.0  \n",
      "y head:\n",
      " 0    0\n",
      "1    0\n",
      "2    1\n",
      "3    1\n",
      "4    0\n",
      "Name: isFraud, dtype: int64\n"
     ]
    }
   ],
   "source": [
    "# Import the dataset\n",
    "data = pd.read_csv(\"PS_20174392719_1491204439457_log.csv\")\n",
    "\n",
    "# Drop unnecessary columns\n",
    "data_cleaned = data.drop(columns=[\"isFlaggedFraud\", \"nameOrig\", \"nameDest\"])\n",
    "\n",
    "# Encode the 'type' column using Label Encoding\n",
    "label_encoder = LabelEncoder()\n",
    "data_cleaned[\"type\"] = label_encoder.fit_transform(data_cleaned[\"type\"])\n",
    "\n",
    "# Define features (X) and target variable (y)\n",
    "X = data_cleaned.drop(columns=[\"isFraud\"])\n",
    "y = data_cleaned[\"isFraud\"]\n",
    "\n",
    "print(\"data_cleaned shape:\\n\", data_cleaned)\n",
    "print(\"X head:\\n\", X.head())\n",
    "print(\"y head:\\n\", y.head())"
   ]
  },
  {
   "cell_type": "markdown",
   "metadata": {},
   "source": [
    "# 3) Test - Train Split"
   ]
  },
  {
   "cell_type": "code",
   "execution_count": null,
   "metadata": {},
   "outputs": [
    {
     "name": "stdout",
     "output_type": "stream",
     "text": [
      "step                int64\n",
      "type                int64\n",
      "amount            float64\n",
      "oldbalanceOrg     float64\n",
      "newbalanceOrig    float64\n",
      "oldbalanceDest    float64\n",
      "newbalanceDest    float64\n",
      "dtype: object\n",
      "X_train before transformation:\n",
      "          step  type     amount  oldbalanceOrg  newbalanceOrig  oldbalanceDest  \\\n",
      "292779     15     3    9914.74       44248.00        34333.26            0.00   \n",
      "499763     20     3    6854.53           0.00            0.00            0.00   \n",
      "2970411   231     1  361211.80           0.00            0.00       489745.16   \n",
      "3137549   236     3    7083.51           0.00            0.00            0.00   \n",
      "1500682   143     0  218019.51    13045685.58     13263705.09      2438123.98   \n",
      "...       ...   ...        ...            ...             ...             ...   \n",
      "1524870   153     3    1895.99           0.00            0.00            0.00   \n",
      "5834821   402     1  347110.99      103785.00            0.00        87871.75   \n",
      "4182953   304     3   13259.63           0.00            0.00            0.00   \n",
      "3985280   298     3   24122.92           0.00            0.00            0.00   \n",
      "1541412   154     3    6865.63           0.00            0.00            0.00   \n",
      "\n",
      "         newbalanceDest  \n",
      "292779             0.00  \n",
      "499763             0.00  \n",
      "2970411       850956.95  \n",
      "3137549            0.00  \n",
      "1500682      2220104.47  \n",
      "...                 ...  \n",
      "1524870            0.00  \n",
      "5834821       434982.74  \n",
      "4182953            0.00  \n",
      "3985280            0.00  \n",
      "1541412            0.00  \n",
      "\n",
      "[5090096 rows x 7 columns]\n",
      "X_test before transformation:\n",
      "          step  type     amount  oldbalanceOrg  newbalanceOrig  oldbalanceDest  \\\n",
      "4051353   300     4  890577.21         218.00            0.00            0.00   \n",
      "5746321   399     0   97734.24     2096258.84      2193993.08       320136.00   \n",
      "6361797   718     3    5907.41         315.00            0.00            0.00   \n",
      "2247309   186     1  187696.30       11057.00            0.00      1798095.21   \n",
      "4692207   331     1   82646.52           0.00            0.00      1047805.87   \n",
      "...       ...   ...        ...            ...             ...             ...   \n",
      "4586779   328     1  140049.41        5262.00            0.00       276818.02   \n",
      "5202249   369     1  272787.29           0.00            0.00      1485733.42   \n",
      "5274477   372     0  135668.28       21283.00       156951.28       501327.35   \n",
      "479091     19     1  144388.46           0.00            0.00      1877333.10   \n",
      "2496743   204     4  242311.85        5729.00            0.00            0.00   \n",
      "\n",
      "         newbalanceDest  \n",
      "4051353       890577.21  \n",
      "5746321       222401.76  \n",
      "6361797            0.00  \n",
      "2247309      1985791.51  \n",
      "4692207      1130452.39  \n",
      "...                 ...  \n",
      "4586779       416867.42  \n",
      "5202249      1758520.71  \n",
      "5274477       365659.07  \n",
      "479091       2021721.57  \n",
      "2496743       242311.85  \n",
      "\n",
      "[1272524 rows x 7 columns]\n",
      "X_train after transformation:\n",
      " [[-1.60457369  0.9523403  -0.28216888 ... -0.28070627 -0.323308\n",
      "  -0.33310412]\n",
      " [-1.56944154  0.9523403  -0.28724842 ... -0.29245062 -0.323308\n",
      "  -0.33310412]\n",
      " [-0.08686509 -0.52906711  0.30093765 ... -0.29245062 -0.17941404\n",
      "  -0.10167142]\n",
      " ...\n",
      " [ 0.42606421  0.9523403  -0.2766168  ... -0.29245062 -0.323308\n",
      "  -0.33310412]\n",
      " [ 0.38390563  0.9523403  -0.25858518 ... -0.29245062 -0.323308\n",
      "  -0.33310412]\n",
      " [-0.6279001   0.9523403  -0.28723    ... -0.29245062 -0.323308\n",
      "  -0.33310412]]\n",
      "X_test after transformation:\n",
      " [[ 0.39795849  1.69304401  1.17961402 ... -0.29245062 -0.323308\n",
      "  -0.09089599]\n",
      " [ 1.09357493 -1.26977082 -0.13640016 ...  0.45804653 -0.22924758\n",
      "  -0.27261805]\n",
      " [ 3.33500569  0.9523403  -0.28882051 ... -0.29245062 -0.323308\n",
      "  -0.33310412]\n",
      " ...\n",
      " [ 0.90386136 -1.26977082 -0.07343468 ... -0.23876244 -0.17601103\n",
      "  -0.2336567 ]\n",
      " [-1.57646797 -0.52906711 -0.05896034 ... -0.29245062  0.22827865\n",
      "   0.2167386 ]\n",
      " [-0.27657866  1.69304401  0.1035795  ... -0.29245062 -0.323308\n",
      "  -0.26720315]]\n"
     ]
    },
    {
     "ename": "",
     "evalue": "",
     "output_type": "error",
     "traceback": [
      "\u001b[1;31mThe Kernel crashed while executing code in the current cell or a previous cell. \n",
      "\u001b[1;31mPlease review the code in the cell(s) to identify a possible cause of the failure. \n",
      "\u001b[1;31mClick <a href='https://aka.ms/vscodeJupyterKernelCrash'>here</a> for more info. \n",
      "\u001b[1;31mView Jupyter <a href='command:jupyter.viewOutput'>log</a> for further details."
     ]
    }
   ],
   "source": [
    "# Split the dataset into training and testing sets (80% train, 20% test)\n",
    "X_train, X_test, y_train, y_test = train_test_split(X, y, test_size=0.2, random_state=42, stratify=y)\n",
    "\n",
    "print(X_train.dtypes)\n",
    "exit(0)\n",
    "\n",
    "# Standardize the features (Logistic Regression performs better with scaled data)\n",
    "scaler = StandardScaler()\n",
    "X_train_scaled = scaler.fit_transform(X_train)\n",
    "X_test_scaled = scaler.transform(X_test)\n",
    "\n",
    "print(\"X_train before transformation:\\n\", X_train)\n",
    "print(\"X_test before transformation:\\n\", X_test)\n",
    "print(\"X_train after transformation:\\n\", X_train_scaled)\n",
    "print(\"X_test after transformation:\\n\", X_test_scaled)"
   ]
  },
  {
   "cell_type": "markdown",
   "metadata": {},
   "source": []
  }
 ],
 "metadata": {
  "kernelspec": {
   "display_name": "venv",
   "language": "python",
   "name": "python3"
  },
  "language_info": {
   "codemirror_mode": {
    "name": "ipython",
    "version": 3
   },
   "file_extension": ".py",
   "mimetype": "text/x-python",
   "name": "python",
   "nbconvert_exporter": "python",
   "pygments_lexer": "ipython3",
   "version": "3.12.7"
  }
 },
 "nbformat": 4,
 "nbformat_minor": 2
}
